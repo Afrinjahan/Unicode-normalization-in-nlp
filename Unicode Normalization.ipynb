{
 "cells": [
  {
   "cell_type": "code",
   "execution_count": 96,
   "metadata": {},
   "outputs": [],
   "source": [
    "import re\n",
    "from unicodedata import normalize\n",
    "from string import ascii_uppercase\n",
    "import unicodedata as ud\n",
    "from unidecode import unidecode\n",
    "\n",
    "\n",
    "\n",
    "\n",
    "def text_normalize(text):\n",
    "    \n",
    "    try:\n",
    "        text = unicode(text, 'utf-8')\n",
    "    except (TypeError, NameError): \n",
    "        pass\n",
    "    \n",
    "    text = unicodedata.normalize('NFKD', text)\n",
    "    text = unicodedata.normalize('NFC', text)\n",
    "    text = unicodedata.normalize('NFD', text)\n",
    "    text = unicodedata.normalize('NFKC', text)\n",
    "   # text = text.unidecode('text')\n",
    "    \n",
    "    \n",
    "    text = text.encode('ascii', 'ignore')\n",
    "    text = text.decode(\"utf-8\")\n",
    "    unidecode(text)\n",
    "#     text = (x for x in ascii_uppercase if x != 'X') \n",
    "#     mapping = {ord(ud.lookup('LATIN LETTER SMALL CAPITAL ' + x)): x for x in text}\n",
    "    \n",
    "#     tt = str.maketrans(mapping)\n",
    "    \n",
    "    \n",
    "#     text.translate(tt)\n",
    "    \n",
    "    \n",
    "    return str(text)\n",
    "\n",
    "\n",
    "\n",
    "   \n",
    "        \n",
    "\n",
    "\n"
   ]
  },
  {
   "cell_type": "code",
   "execution_count": 97,
   "metadata": {},
   "outputs": [
    {
     "data": {
      "text/plain": [
       "'    '"
      ]
     },
     "execution_count": 97,
     "metadata": {},
     "output_type": "execute_result"
    }
   ],
   "source": [
    "text_normalize(\"ᴀᴍᴇʀ ʟɪɴɢᴀ ʟᴀʟ ʟᴀʟ ʙɪᴄᴇ\")"
   ]
  },
  {
   "cell_type": "code",
   "execution_count": null,
   "metadata": {},
   "outputs": [],
   "source": [
    "ᴀᴍᴇʀ ʟɪɴɢᴀ ʟᴀʟ ʟᴀʟ ʙɪᴄᴇ ᴜᴛᴄᴀ sᴜᴅᴜ ᴄᴜʟᴋᴀɪ ᴀᴋᴏɴ ᴀᴍɪ ᴋɪ sᴏᴜᴅ ᴋᴀʙᴏ\n",
    "ᴀsᴋᴀ 2ᴅɪɴ ᴠᴀsɪ ᴠᴏʀᴏ ɴᴀ ᴠɪᴄᴇ ɢᴜʟᴀ ᴛᴏʙᴀ ᴄᴜʟᴋᴀɪ ᴀᴍɪ ᴘᴀᴠᴇsᴏɴ ᴅɪᴄᴇ\n",
    "𝐀𝐦𝐚𝐫 𝐩𝐫𝐞𝐠𝐧𝐚𝐧𝐜𝐲 𝐫 1 𝐦𝐨𝐧𝐭𝐡 𝐞𝐤𝐨𝐧𝐨 𝐛𝐚𝐤𝐢 𝐛𝐮𝐭 𝐚𝐦𝐚𝐫 𝐩𝐞𝐭 𝐥𝐚𝐠𝐭𝐞𝐬𝐞 𝐜𝐮𝐭𝐨 𝐡𝐨𝐲𝐞 𝐠𝐞𝐬𝐞 𝐚𝐫 𝐛𝐚𝐛𝐲 𝐧𝐢𝐬𝐞 𝐧𝐞𝐦𝐞 𝐠𝐞𝐬𝐞 𝐚𝐫 𝐛𝐞𝐬𝐢 𝐩𝐚𝐧𝐢 𝐣𝐚𝐜𝐡𝐞 𝐝𝐞𝐥𝐢𝐯𝐞𝐫𝐲 𝐫 𝐤𝐢 𝐭𝐢𝐦𝐞 𝐡𝐨𝐢𝐬𝐞\n",
    "𝘢𝘮𝘪 𝘢𝘬𝘫𝘰𝘯 𝘩𝘦𝘢𝘳𝘵𝘣𝘳𝘰𝘬𝘦𝘯 𝘱𝘦𝘳𝘴𝘰𝘯\n",
    "𝐴𝑠𝑠𝑎𝑙𝑎𝑚𝑎𝑙𝑎𝑖𝑘𝑜𝑚 𝑜𝑟𝑜ℎ𝑚𝑎𝑡𝑢𝑙𝑎ℎ𝑖𝑜𝑏𝑎𝑟𝑎𝑘ℎ𝑎𝑡𝑜𝑛 𝐴𝑚𝑎𝑟 𝑠𝑜𝑚𝑜𝑠𝑎 ℎ𝑜𝑠𝑠𝑒 𝑎𝑚𝑎𝑟 𝐻𝑎𝑠𝑣𝑒𝑛 𝑎𝑚𝑎𝑟 𝑠𝑎𝑡𝑒 𝑠𝑜ℎ𝑜𝑣𝑎𝑠 𝑘𝑜𝑟𝑡𝑒 𝑐𝑎𝑖 𝑏𝑢𝑡 𝑎𝑚𝑖 𝑘𝑖𝑠𝑢 𝑘ℎ𝑜𝑛 𝑏𝑒𝑡ℎ𝑎 𝑠𝑜ℎ𝑜𝑘 𝑘𝑜𝑟𝑡𝑒 𝑝𝑎𝑟𝑖 𝑏𝑢𝑡 𝑡𝑎𝑟 𝑒𝑠𝑒 𝑐𝑎ℎ𝑖𝑑𝑎 𝑚𝑖𝑡𝑎𝑡𝑒 𝑝𝑎𝑟𝑐𝑖 𝑛𝑎 𝑠𝑒 𝑜𝑛𝑒𝑘 𝑘ℎ𝑜𝑛 𝑘𝑜𝑟𝑡𝑒 𝑐𝑎𝑖 𝑏𝑢𝑡 𝑎𝑚𝑖 𝑏𝑒𝑡ℎ𝑎 𝑠𝑜ℎ𝑜𝑘 𝑘𝑜𝑟𝑡𝑒 𝑛𝑎 𝑝𝑎𝑟𝑎𝑖 𝑡𝑎𝑟𝑒 𝑑𝑜𝑟𝑒 𝑠𝑜𝑟𝑖𝑦𝑒 𝑑𝑒𝑖 𝑎𝑘ℎ𝑜𝑛 𝑎𝑚𝑖 𝑘𝑖 𝑘𝑜𝑟𝑣𝑜 𝑗𝑒 𝑠𝑒 𝑡𝑎𝑟 𝑐𝑎ℎ𝑖𝑑𝑎 𝑚𝑜𝑡𝑜 𝑠𝑜ℎ𝑜𝑏𝑎𝑠 𝑘𝑜𝑟𝑡𝑒 𝑝𝑎𝑟𝑒 𝐴𝑝𝑛𝑖 𝑎𝑘𝑡𝑎 𝑂𝑝𝑎𝑖 𝑏𝑜𝑙𝑒 𝑑𝑒𝑛 𝑝𝑙𝑙𝑧𝑧𝑧𝑧𝑧𝑧𝑧\n",
    "𝒔𝒆𝒙 𝒐𝒇 𝒌𝒐𝒓𝒃𝒐 𝒌𝒊 𝒌𝒐𝒓𝒆\n",
    "𝐀𝐦𝐚𝐫 𝐰𝐢𝐟𝐞 23 𝐰𝐞𝐞𝐤𝐬 𝐩𝐫𝐞𝐠𝐧𝐚𝐧𝐭 𝐫 𝐛𝐚𝐛𝐲 𝐭𝐚 𝐧𝐨𝐫𝐚𝐜𝐡𝐨𝐫𝐚 𝐛𝐞𝐬𝐢 𝐛𝐞𝐬𝐢 𝐊𝐨𝐫𝐞 𝐦𝐚𝐣𝐡𝐞 𝐦𝐚𝐣𝐡𝐞 𝐫 𝐞𝐭𝐚 𝐤𝐢 𝐤𝐧𝐨 𝐩𝐫𝐨𝐛𝐥𝐞𝐦\n",
    "𝓪𝓶𝓲 𝓪𝓴𝓳𝓸𝓷 𝓱𝓲𝓷𝓭𝓾 𝓼𝓮𝓵𝓮 𝓱𝓲𝓷𝓭𝓾𝓭𝓮𝓻 𝓽𝓸 𝓹𝓮𝓷𝓲𝓬𝓮𝓻 𝓴𝓱𝓸𝓽𝓷𝓪 𝓴𝓸𝓻𝓪 𝓱𝓸𝔂 𝓷𝓪𝓱 𝓱𝓲𝓷𝓭𝓾𝓭𝓮𝓻 𝓪𝓾𝓽𝓸𝓶𝓪𝓽𝓲𝓬 𝓹𝓮𝓷𝓲𝓬𝓼 𝓴𝓱𝓾𝓵𝓮 𝓳𝓪𝔂 𝓫𝓾𝓽 𝓪𝓶𝓪𝓻𝓽𝓪 𝓪𝓾𝓽𝓸𝓶𝓪𝓽𝓲𝓬 𝓴𝓱𝓾𝓵𝓮 𝓷𝓪 𝓪𝓻 𝓳𝓸𝓷𝓷𝓸 𝓴𝓲 𝓴𝓸𝓻𝓽𝓮 𝓹𝓪𝓻𝓲 𝓫𝓸𝓵𝓫𝓮 𝓹𝓵𝔃\n",
    "𝙙𝙖𝙠𝙩𝙖𝙧 𝙖𝙢𝙖𝙠 𝙨𝙤𝙗 𝙩𝙚𝙨𝙩 𝙙𝙞𝙘𝙚 𝙖𝙢𝙞 𝙠𝙤𝙧𝙖𝙞𝙘𝙞 𝙠𝙤𝙣𝙤 𝙥𝙤𝙗𝙡𝙢 𝙗𝙤𝙡𝙚𝙣𝙖𝙞 𝙝𝙖𝙨𝙗𝙖𝙣 𝙗𝙖𝙞𝙧𝙚 𝙩𝙖𝙠𝙚 𝙖𝙨𝙗𝙚 𝙩𝙖𝙮 𝙜𝙖𝙞𝙣𝙞 𝙙𝙖𝙠𝙩𝙖𝙧 𝙙𝙚𝙠𝙖𝙞𝙘𝙞𝙞 𝙤𝙬𝙨𝙝𝙤𝙙 𝙙𝙞𝙘𝙚 𝙖𝙢𝙖𝙧 𝙢𝙖𝙨𝙞𝙠 𝙣𝙞𝙮𝙤𝙢𝙞𝙩𝙝𝙤 𝙣𝙖 𝙩𝙖𝙖𝙮\n",
    "𝒂𝒎𝒊 𝒄𝒊𝒌𝒐𝒏 𝒉𝒐𝒚𝒂 𝒋𝒂𝒔𝒔𝒊 𝒉𝒐𝒕𝒂𝒕 𝒂𝒎𝒊 𝒌𝒊 𝒌𝒆𝒍𝒆 𝒗𝒍𝒐 𝒉𝒐𝒊\n",
    "𝒔𝒊𝒓 𝒂𝒎𝒂𝒓 𝒑𝒓𝒐𝒕𝒊𝒅𝒊𝒏 𝒐𝒖𝒕 𝒌𝒐𝒓𝒕𝒂 𝒉𝒐𝒊 2 3 𝒃𝒂𝒓 𝒌𝒊 𝒌𝒐𝒓𝒃𝒐\n",
    "🅰🅺🆃🆄 🅼🆄🆃🅰 🅷🅾🆃🅴 🅲🅷🅰🅸 🅾🅽🅴🅺 🅾🅽🅴🅺 🆂🅷🆄🅺🅽🅰 🅰🅼🅸 🅺🅸 🅺🅾🆁🅰 🅹🅰🆈\n",
    "𝐀𝐦𝐚𝐫 𝐩𝐫𝐞𝐠𝐧𝐚𝐧𝐜𝐲 𝐫 1 𝐦𝐨𝐧𝐭𝐡 𝐞𝐤𝐨𝐧𝐨 𝐛𝐚𝐤𝐢 𝐛𝐮𝐭 𝐚𝐦𝐚𝐫 𝐩𝐞𝐭 𝐥𝐚𝐠𝐭𝐞𝐬𝐞 𝐜𝐮𝐭𝐨 𝐡𝐨𝐲𝐞 𝐠𝐞𝐬𝐞 𝐚𝐫 𝐛𝐚𝐛𝐲 𝐧𝐢𝐬𝐞 𝐧𝐞𝐦𝐞 𝐠𝐞𝐬𝐞 𝐚𝐫 𝐛𝐞𝐬𝐢 𝐩𝐚𝐧𝐢 𝐣𝐚𝐜𝐡𝐞 𝐝𝐞𝐥𝐢𝐯𝐞𝐫𝐲 𝐫 𝐤𝐢 𝐭𝐢𝐦𝐞 𝐡𝐨𝐢𝐬𝐞\n",
    "ⓗⓔⓛⓛⓞ ⓦⓞⓡⓛⓓ \n",
    "🅘🅝🅓🅘🅥🅘🅓🅤🅐🅛🅘🅣🅨\n",
    "7 𝕸𝖎𝖑𝖑𝖎𝖔𝖓𝖆𝖎𝖗𝖊 𝕳𝖆𝖈𝖐𝖘 — 𝕭𝖚𝖞 𝖒𝖞 𝖈𝖔𝖚𝖗𝖘𝖊 𝖙𝖔 𝖌𝖊𝖙 𝖗𝖎𝖈𝖍!\n",
    "\n"
   ]
  },
  {
   "cell_type": "code",
   "execution_count": 121,
   "metadata": {},
   "outputs": [
    {
     "name": "stdout",
     "output_type": "stream",
     "text": [
      "Requirement already satisfied: unidecode in /home/afrin/myvenv/lib/python3.7/site-packages (1.2.0)\n",
      "\u001b[33mWARNING: You are using pip version 21.1.3; however, version 21.2.2 is available.\n",
      "You should consider upgrading via the '/home/afrin/myvenv/bin/python3 -m pip install --upgrade pip' command.\u001b[0m\n"
     ]
    }
   ],
   "source": [
    "! pip install unidecode\n"
   ]
  },
  {
   "cell_type": "code",
   "execution_count": 122,
   "metadata": {},
   "outputs": [],
   "source": [
    "from unidecode import unidecode\n",
    "\n",
    "def text_normalize(text):\n",
    "    \n",
    "    try:\n",
    "        text = unidecode(text, 'utf-8')\n",
    "    except (TypeError, NameError): \n",
    "        pass\n",
    "    return str(text)\n",
    "\n"
   ]
  },
  {
   "cell_type": "code",
   "execution_count": 123,
   "metadata": {},
   "outputs": [
    {
     "data": {
      "text/plain": [
       "'hello world '"
      ]
     },
     "execution_count": 123,
     "metadata": {},
     "output_type": "execute_result"
    }
   ],
   "source": [
    "\n",
    "text_normalize(\"ⓗⓔⓛⓛⓞ ⓦⓞⓡⓛⓓ \")\n"
   ]
  },
  {
   "cell_type": "code",
   "execution_count": 119,
   "metadata": {},
   "outputs": [
    {
     "data": {
      "text/plain": [
       "'amar nam afri'"
      ]
     },
     "execution_count": 119,
     "metadata": {},
     "output_type": "execute_result"
    }
   ],
   "source": []
  },
  {
   "cell_type": "code",
   "execution_count": 117,
   "metadata": {},
   "outputs": [
    {
     "data": {
      "text/plain": [
       "'[A][K][T][U] [M][U][T][A] [H][O][T][E] [C][H][A][I] [O][N][E][K] [O][N][E][K] [S][H][U][K][N][A] [A][M][I] [K][I] [K][O][R][A] '"
      ]
     },
     "execution_count": 117,
     "metadata": {},
     "output_type": "execute_result"
    }
   ],
   "source": [
    "text_normalize(\"🅰🅺🆃🆄 🅼🆄🆃🅰 🅷🅾🆃🅴 🅲🅷🅰🅸 🅾🅽🅴🅺 🅾🅽🅴🅺 🆂🅷🆄🅺🅽🅰 🅰🅼🅸 🅺🅸 🅺🅾🆁🅰 \")"
   ]
  },
  {
   "cell_type": "code",
   "execution_count": 118,
   "metadata": {},
   "outputs": [
    {
     "data": {
      "text/plain": [
       "'hello world '"
      ]
     },
     "execution_count": 118,
     "metadata": {},
     "output_type": "execute_result"
    }
   ],
   "source": [
    "text_normalize(\"ⓗⓔⓛⓛⓞ ⓦⓞⓡⓛⓓ \")"
   ]
  },
  {
   "cell_type": "code",
   "execution_count": null,
   "metadata": {},
   "outputs": [],
   "source": []
  }
 ],
 "metadata": {
  "kernelspec": {
   "display_name": "Python 3 (ipykernel)",
   "language": "python",
   "name": "python3"
  },
  "language_info": {
   "codemirror_mode": {
    "name": "ipython",
    "version": 3
   },
   "file_extension": ".py",
   "mimetype": "text/x-python",
   "name": "python",
   "nbconvert_exporter": "python",
   "pygments_lexer": "ipython3",
   "version": "3.7.10"
  }
 },
 "nbformat": 4,
 "nbformat_minor": 4
}
